{
  "nbformat": 4,
  "nbformat_minor": 0,
  "metadata": {
    "colab": {
      "provenance": [],
      "authorship_tag": "ABX9TyMLybfbpjwBYu9XqsAzKPyh",
      "include_colab_link": true
    },
    "kernelspec": {
      "name": "python3",
      "display_name": "Python 3"
    },
    "language_info": {
      "name": "python"
    }
  },
  "cells": [
    {
      "cell_type": "markdown",
      "metadata": {
        "id": "view-in-github",
        "colab_type": "text"
      },
      "source": [
        "<a href=\"https://colab.research.google.com/github/jeraldflowers/Neurals-Network-Build/blob/main/Linear_regression.ipynb\" target=\"_parent\"><img src=\"https://colab.research.google.com/assets/colab-badge.svg\" alt=\"Open In Colab\"/></a>"
      ]
    },
    {
      "cell_type": "code",
      "execution_count": 1,
      "metadata": {
        "id": "3FHZ25jWxWEA"
      },
      "outputs": [],
      "source": [
        "import pandas as pd\n",
        "import numpy as np\n",
        "from keras.datasets import boston_housing\n",
        "from keras import layers, models, optimizers"
      ]
    },
    {
      "cell_type": "markdown",
      "source": [
        "## Data Download"
      ],
      "metadata": {
        "id": "M_SqRo0c0RWu"
      }
    },
    {
      "cell_type": "code",
      "source": [
        "(train_data, train_labels), (test_data, test_labels) = boston_housing.load_data()"
      ],
      "metadata": {
        "colab": {
          "base_uri": "https://localhost:8080/"
        },
        "id": "2nFgNkilxooD",
        "outputId": "99be9f7b-5155-4aef-c57f-90762657c257"
      },
      "execution_count": 2,
      "outputs": [
        {
          "output_type": "stream",
          "name": "stdout",
          "text": [
            "Downloading data from https://storage.googleapis.com/tensorflow/tf-keras-datasets/boston_housing.npz\n",
            "57026/57026 [==============================] - 0s 0us/step\n"
          ]
        }
      ]
    },
    {
      "cell_type": "code",
      "source": [
        "train_data.shape"
      ],
      "metadata": {
        "colab": {
          "base_uri": "https://localhost:8080/"
        },
        "id": "bMgOQcOCx4p4",
        "outputId": "088034a5-8f22-4917-a272-e61a6a7843dd"
      },
      "execution_count": 3,
      "outputs": [
        {
          "output_type": "execute_result",
          "data": {
            "text/plain": [
              "(404, 13)"
            ]
          },
          "metadata": {},
          "execution_count": 3
        }
      ]
    },
    {
      "cell_type": "code",
      "source": [
        "train_labels.shape"
      ],
      "metadata": {
        "colab": {
          "base_uri": "https://localhost:8080/"
        },
        "id": "xe_QrSWCx83j",
        "outputId": "15b57675-922f-4b8a-b49a-36a1d1d9e976"
      },
      "execution_count": 4,
      "outputs": [
        {
          "output_type": "execute_result",
          "data": {
            "text/plain": [
              "(404,)"
            ]
          },
          "metadata": {},
          "execution_count": 4
        }
      ]
    },
    {
      "cell_type": "code",
      "source": [
        "train_data[0]"
      ],
      "metadata": {
        "colab": {
          "base_uri": "https://localhost:8080/"
        },
        "id": "PpGNEOnYyGTq",
        "outputId": "901fd9ce-b319-45ea-a6f1-6b2a6c321d87"
      },
      "execution_count": 5,
      "outputs": [
        {
          "output_type": "execute_result",
          "data": {
            "text/plain": [
              "array([  1.23247,   0.     ,   8.14   ,   0.     ,   0.538  ,   6.142  ,\n",
              "        91.7    ,   3.9769 ,   4.     , 307.     ,  21.     , 396.9    ,\n",
              "        18.72   ])"
            ]
          },
          "metadata": {},
          "execution_count": 5
        }
      ]
    },
    {
      "cell_type": "code",
      "source": [
        "train_labels[0]"
      ],
      "metadata": {
        "colab": {
          "base_uri": "https://localhost:8080/"
        },
        "id": "on62VW0myBP7",
        "outputId": "130ad9ca-9316-4d8f-f0c6-0a882391a5b0"
      },
      "execution_count": 6,
      "outputs": [
        {
          "output_type": "execute_result",
          "data": {
            "text/plain": [
              "15.2"
            ]
          },
          "metadata": {},
          "execution_count": 6
        }
      ]
    },
    {
      "cell_type": "markdown",
      "source": [
        "## Normalization"
      ],
      "metadata": {
        "id": "CpwtV2Ec0Xpc"
      }
    },
    {
      "cell_type": "code",
      "source": [
        "mean = train_data.mean(axis=0)\n",
        "train_data = train_data - mean\n",
        "std = train_data.std(axis=0)\n",
        "train_data = train_data / std\n",
        "\n",
        "test_data = test_data - mean\n",
        "test_data = test_data / std"
      ],
      "metadata": {
        "id": "QG1uFgB7yEhB"
      },
      "execution_count": 7,
      "outputs": []
    },
    {
      "cell_type": "markdown",
      "source": [
        "## Defining the Network"
      ],
      "metadata": {
        "id": "ZtcyW1Pg0ii0"
      }
    },
    {
      "cell_type": "code",
      "source": [
        "def build_model_regression(lr_var, input_data):\n",
        "  model = models.Sequential()\n",
        "  model.add(layers.Dense(64, activation='relu', input_shape=(input_data,)))\n",
        "  model.add(layers.Dense(64, activation='relu'))\n",
        "  model.add(layers.Dense(1))\n",
        "  model.compile(optimizer = optimizers.RMSprop(lr=lr_var), loss='mse', metrics =['mae'])\n",
        "  return model"
      ],
      "metadata": {
        "id": "SadQJiFXycrw"
      },
      "execution_count": 19,
      "outputs": []
    },
    {
      "cell_type": "markdown",
      "source": [
        "## K-fold Validation"
      ],
      "metadata": {
        "id": "P5JQJCf80p1E"
      }
    },
    {
      "cell_type": "code",
      "source": [
        "k = 4\n",
        "num_val_samples = len(train_data) // k\n",
        "num_epoch = 85\n",
        "all_history = []"
      ],
      "metadata": {
        "id": "gxvGBkiyc3-h"
      },
      "execution_count": 30,
      "outputs": []
    },
    {
      "cell_type": "code",
      "source": [
        "num_val_samples"
      ],
      "metadata": {
        "colab": {
          "base_uri": "https://localhost:8080/"
        },
        "id": "DOVFw4F6d2Ow",
        "outputId": "7270f079-b92a-404a-e6f6-f33290b9200f"
      },
      "execution_count": 31,
      "outputs": [
        {
          "output_type": "execute_result",
          "data": {
            "text/plain": [
              "101"
            ]
          },
          "metadata": {},
          "execution_count": 31
        }
      ]
    },
    {
      "cell_type": "code",
      "source": [
        "for i in range(k):\n",
        "  print(\"Fold:\", i)\n",
        "  val_data = train_data[i*num_val_samples : (i+1) * num_val_samples]\n",
        "  val_targets = train_labels[i*num_val_samples : (i+1) * num_val_samples]\n",
        "\n",
        "  partial_train_data = np.concatenate(\n",
        "      [train_data[:i * num_val_samples],\n",
        "       train_data[(i+1) * num_val_samples:]\n",
        "       ],\n",
        "       axis=0)\n",
        "  \n",
        "  partial_train_targets = np.concatenate(\n",
        "      [train_labels[:i * num_val_samples],\n",
        "       train_labels[(i+1) * num_val_samples:]\n",
        "       ],\n",
        "       axis=0)\n",
        "  \n",
        "  model = build_model_regression(0.001, 13)\n",
        "  history = model.fit(partial_train_data, partial_train_targets,\n",
        "                      epochs=num_epoch,\n",
        "                      batch_size=16,\n",
        "                      validation_data=(val_data, val_targets),\n",
        "                      verbose=0\n",
        "                      )\n",
        "  all_history.append(history.history['val_mae'])"
      ],
      "metadata": {
        "colab": {
          "base_uri": "https://localhost:8080/"
        },
        "id": "noeO06NGd4zf",
        "outputId": "263977a6-c6c6-44aa-dd52-7784f619d7cf"
      },
      "execution_count": 32,
      "outputs": [
        {
          "output_type": "stream",
          "name": "stdout",
          "text": [
            "Fold: 0\n"
          ]
        },
        {
          "output_type": "stream",
          "name": "stderr",
          "text": [
            "/usr/local/lib/python3.7/dist-packages/keras/optimizers/optimizer_v2/rmsprop.py:135: UserWarning: The `lr` argument is deprecated, use `learning_rate` instead.\n",
            "  super(RMSprop, self).__init__(name, **kwargs)\n"
          ]
        },
        {
          "output_type": "stream",
          "name": "stdout",
          "text": [
            "Fold: 1\n",
            "Fold: 2\n",
            "Fold: 3\n"
          ]
        }
      ]
    },
    {
      "cell_type": "markdown",
      "source": [
        "## MAE Average"
      ],
      "metadata": {
        "id": "XVVJGuRq0_oL"
      }
    },
    {
      "cell_type": "code",
      "source": [
        "all_mae_avg = pd.DataFrame(all_history).mean(axis=0)\n",
        "\n",
        "all_mae_avg"
      ],
      "metadata": {
        "colab": {
          "base_uri": "https://localhost:8080/"
        },
        "id": "_DjEM5ouuaWZ",
        "outputId": "75567b40-879c-41c8-8b52-7414f6d8ba87"
      },
      "execution_count": 33,
      "outputs": [
        {
          "output_type": "execute_result",
          "data": {
            "text/plain": [
              "0     19.590429\n",
              "1     16.320827\n",
              "2     12.162589\n",
              "3      8.100953\n",
              "4      5.885799\n",
              "        ...    \n",
              "80     2.322900\n",
              "81     2.352424\n",
              "82     2.298615\n",
              "83     2.288711\n",
              "84     2.357154\n",
              "Length: 85, dtype: float64"
            ]
          },
          "metadata": {},
          "execution_count": 33
        }
      ]
    },
    {
      "cell_type": "markdown",
      "source": [
        "## Results Display"
      ],
      "metadata": {
        "id": "54nBMrPH1EX0"
      }
    },
    {
      "cell_type": "code",
      "source": [
        "import matplotlib.pyplot as plt\n",
        "\n",
        "fig = plt.figure(figsize=(10,10))\n",
        "plt.plot(range(1, len(all_mae_avg[15:])+1), all_mae_avg[15:])\n",
        "plt.show()"
      ],
      "metadata": {
        "colab": {
          "base_uri": "https://localhost:8080/",
          "height": 594
        },
        "id": "cCYYAea_voly",
        "outputId": "d1b5c4aa-8baa-49f6-cb51-4eec8dd2c1fc"
      },
      "execution_count": 34,
      "outputs": [
        {
          "output_type": "display_data",
          "data": {
            "text/plain": [
              "<Figure size 720x720 with 1 Axes>"
            ],
            "image/png": "[encoded data removed]"
          },
          "metadata": {
            "needs_background": "light"
          }
        }
      ]
    },
    {
      "cell_type": "markdown",
      "source": [
        "## Evaluating the Model"
      ],
      "metadata": {
        "id": "Lgf3MhWQ1LUH"
      }
    },
    {
      "cell_type": "code",
      "source": [
        "model.evaluate(test_data, test_labels)"
      ],
      "metadata": {
        "colab": {
          "base_uri": "https://localhost:8080/"
        },
        "id": "X_e1yqkszVeW",
        "outputId": "92c18a7f-9fee-4269-f2d6-dca3b2bff611"
      },
      "execution_count": 36,
      "outputs": [
        {
          "output_type": "stream",
          "name": "stdout",
          "text": [
            "4/4 [==============================] - 0s 4ms/step - loss: 21.8907 - mae: 2.7425\n"
          ]
        },
        {
          "output_type": "execute_result",
          "data": {
            "text/plain": [
              "[21.890663146972656, 2.7424893379211426]"
            ]
          },
          "metadata": {},
          "execution_count": 36
        }
      ]
    }
  ]
}