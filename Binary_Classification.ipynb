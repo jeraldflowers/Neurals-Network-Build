{
  "nbformat": 4,
  "nbformat_minor": 0,
  "metadata": {
    "colab": {
      "provenance": [],
      "authorship_tag": "ABX9TyME4fiFxBw8KaABM21zo0pl",
      "include_colab_link": true
    },
    "kernelspec": {
      "name": "python3",
      "display_name": "Python 3"
    },
    "language_info": {
      "name": "python"
    }
  },
  "cells": [
    {
      "cell_type": "markdown",
      "metadata": {
        "id": "view-in-github",
        "colab_type": "text"
      },
      "source": [
        "<a href=\"https://colab.research.google.com/github/jeraldflowers/Neurals-Network-Build/blob/main/Binary_Classification.ipynb\" target=\"_parent\"><img src=\"https://colab.research.google.com/assets/colab-badge.svg\" alt=\"Open In Colab\"/></a>"
      ]
    },
    {
      "cell_type": "code",
      "execution_count": 1,
      "metadata": {
        "id": "7CeUd6krviMC"
      },
      "outputs": [],
      "source": [
        "import numpy as np\n",
        "from keras.datasets import imdb\n",
        "from keras import models, layers, optimizers"
      ]
    },
    {
      "cell_type": "markdown",
      "source": [
        "## Data Download"
      ],
      "metadata": {
        "id": "O0ahvVfZwPvz"
      }
    },
    {
      "cell_type": "code",
      "source": [
        "(train_data, train_labels), (test_data, test_labels) = imdb.load_data(num_words=10000)"
      ],
      "metadata": {
        "colab": {
          "base_uri": "https://localhost:8080/"
        },
        "id": "7gB9B-KhwIIM",
        "outputId": "a5da2bea-07d1-4ce1-ae51-ae9116a506fc"
      },
      "execution_count": 2,
      "outputs": [
        {
          "output_type": "stream",
          "name": "stdout",
          "text": [
            "Downloading data from https://storage.googleapis.com/tensorflow/tf-keras-datasets/imdb.npz\n",
            "17464789/17464789 [==============================] - 0s 0us/step\n"
          ]
        }
      ]
    },
    {
      "cell_type": "code",
      "source": [
        "train_data[0]"
      ],
      "metadata": {
        "id": "0-71MiyrwWa1"
      },
      "execution_count": null,
      "outputs": []
    },
    {
      "cell_type": "code",
      "source": [
        "train_labels[0]"
      ],
      "metadata": {
        "colab": {
          "base_uri": "https://localhost:8080/"
        },
        "id": "_1U710GJwaFb",
        "outputId": "e17f3450-6ab6-4bb6-d038-c218acbea2b5"
      },
      "execution_count": 4,
      "outputs": [
        {
          "output_type": "execute_result",
          "data": {
            "text/plain": [
              "1"
            ]
          },
          "metadata": {},
          "execution_count": 4
        }
      ]
    },
    {
      "cell_type": "markdown",
      "source": [
        "## Word Dictionary"
      ],
      "metadata": {
        "id": "TZF3lOgiwbpO"
      }
    },
    {
      "cell_type": "code",
      "source": [
        "word_index = imdb.get_word_index()\n",
        "word_index = dict([(value, key) for (key, value) in word_index.items()])"
      ],
      "metadata": {
        "id": "NK2XJU4YwjSi"
      },
      "execution_count": 6,
      "outputs": []
    },
    {
      "cell_type": "code",
      "source": [
        "for _ in train_data[0]:\n",
        "  print(word_index.get(_ -3))"
      ],
      "metadata": {
        "id": "e8ShnxIWwqNY"
      },
      "execution_count": null,
      "outputs": []
    },
    {
      "cell_type": "markdown",
      "source": [
        "## One-hot Encoding Function"
      ],
      "metadata": {
        "id": "eJQogjngwlBy"
      }
    },
    {
      "cell_type": "code",
      "source": [
        "def vectorizar(sequences, dim=10000):\n",
        "    results = np.zeros((len(sequences), dim))\n",
        "    for i, sequences in enumerate(sequences):\n",
        "        results[i, sequences]=1\n",
        "    return results"
      ],
      "metadata": {
        "id": "CXkgOWe10Aqq"
      },
      "execution_count": 9,
      "outputs": []
    },
    {
      "cell_type": "markdown",
      "source": [
        "## Transform Data"
      ],
      "metadata": {
        "id": "qbsR41MVwxNn"
      }
    },
    {
      "cell_type": "code",
      "source": [
        "x_train = vectorizar(train_data)\n",
        "x_test = vectorizar(test_data)"
      ],
      "metadata": {
        "id": "DDisQqeq0qc8"
      },
      "execution_count": 10,
      "outputs": []
    },
    {
      "cell_type": "code",
      "source": [
        "y_train = np.asarray(train_labels).astype('float32')\n",
        "y_test = np.asarray(test_labels).astype('float32')"
      ],
      "metadata": {
        "id": "buEhiAfb06qH"
      },
      "execution_count": 11,
      "outputs": []
    },
    {
      "cell_type": "markdown",
      "source": [
        "## Model"
      ],
      "metadata": {
        "id": "24sCmiudw5H7"
      }
    },
    {
      "cell_type": "code",
      "source": [
        "model = models.Sequential()\n",
        "model.add(layers.Dense(16, activation='relu', input_shape = (10000,)))\n",
        "model.add(layers.Dense(16, activation='relu'))\n",
        "model.add(layers.Dense(1, activation='sigmoid'))"
      ],
      "metadata": {
        "id": "nU2PStbP1h7t"
      },
      "execution_count": 12,
      "outputs": []
    },
    {
      "cell_type": "code",
      "source": [
        "model.compile(optimizer='rmsprop',\n",
        "              loss='binary_crossentropy',\n",
        "              metrics=['acc'])"
      ],
      "metadata": {
        "id": "DUEU_iB52Bc6"
      },
      "execution_count": 19,
      "outputs": []
    },
    {
      "cell_type": "code",
      "source": [
        "x_val = x_train[:10000]\n",
        "partial_x_train = x_train[10000:]\n",
        "\n",
        "Y_val = y_train[:10000]\n",
        "partial_y_train = y_train[10000:]"
      ],
      "metadata": {
        "id": "OUccu9ZF2SSh"
      },
      "execution_count": 16,
      "outputs": []
    },
    {
      "cell_type": "markdown",
      "source": [
        "## Training"
      ],
      "metadata": {
        "id": "MZM6FLx7w8fT"
      }
    },
    {
      "cell_type": "code",
      "source": [
        "history = model.fit(partial_x_train,\n",
        "                    partial_y_train,\n",
        "                    epochs=20,\n",
        "                    batch_size=512,\n",
        "                    validation_data=(x_val, Y_val))"
      ],
      "metadata": {
        "colab": {
          "base_uri": "https://localhost:8080/"
        },
        "id": "eccJbSTt2h_p",
        "outputId": "23bf1d4d-a5ab-46d5-a171-7a83afb2e9b5"
      },
      "execution_count": 24,
      "outputs": [
        {
          "output_type": "stream",
          "name": "stdout",
          "text": [
            "Epoch 1/20\n",
            "30/30 [==============================] - 1s 45ms/step - loss: 0.1529 - acc: 0.9524 - val_loss: 0.2793 - val_acc: 0.8876\n",
            "Epoch 2/20\n",
            "30/30 [==============================] - 1s 37ms/step - loss: 0.1237 - acc: 0.9625 - val_loss: 0.2927 - val_acc: 0.8851\n",
            "Epoch 3/20\n",
            "30/30 [==============================] - 1s 38ms/step - loss: 0.1061 - acc: 0.9699 - val_loss: 0.3136 - val_acc: 0.8831\n",
            "Epoch 4/20\n",
            "30/30 [==============================] - 1s 37ms/step - loss: 0.0860 - acc: 0.9760 - val_loss: 0.3564 - val_acc: 0.8720\n",
            "Epoch 5/20\n",
            "30/30 [==============================] - 1s 38ms/step - loss: 0.0724 - acc: 0.9813 - val_loss: 0.3474 - val_acc: 0.8786\n",
            "Epoch 6/20\n",
            "30/30 [==============================] - 1s 46ms/step - loss: 0.0611 - acc: 0.9849 - val_loss: 0.3668 - val_acc: 0.8780\n",
            "Epoch 7/20\n",
            "30/30 [==============================] - 1s 36ms/step - loss: 0.0487 - acc: 0.9893 - val_loss: 0.3931 - val_acc: 0.8755\n",
            "Epoch 8/20\n",
            "30/30 [==============================] - 1s 37ms/step - loss: 0.0394 - acc: 0.9920 - val_loss: 0.4364 - val_acc: 0.8744\n",
            "Epoch 9/20\n",
            "30/30 [==============================] - 1s 36ms/step - loss: 0.0310 - acc: 0.9942 - val_loss: 0.4715 - val_acc: 0.8671\n",
            "Epoch 10/20\n",
            "30/30 [==============================] - 1s 36ms/step - loss: 0.0265 - acc: 0.9951 - val_loss: 0.4845 - val_acc: 0.8721\n",
            "Epoch 11/20\n",
            "30/30 [==============================] - 1s 36ms/step - loss: 0.0193 - acc: 0.9974 - val_loss: 0.5221 - val_acc: 0.8689\n",
            "Epoch 12/20\n",
            "30/30 [==============================] - 1s 36ms/step - loss: 0.0155 - acc: 0.9987 - val_loss: 0.5559 - val_acc: 0.8676\n",
            "Epoch 13/20\n",
            "30/30 [==============================] - 1s 37ms/step - loss: 0.0134 - acc: 0.9977 - val_loss: 0.5875 - val_acc: 0.8669\n",
            "Epoch 14/20\n",
            "30/30 [==============================] - 1s 36ms/step - loss: 0.0087 - acc: 0.9993 - val_loss: 0.6280 - val_acc: 0.8675\n",
            "Epoch 15/20\n",
            "30/30 [==============================] - 1s 36ms/step - loss: 0.0079 - acc: 0.9992 - val_loss: 0.6736 - val_acc: 0.8636\n",
            "Epoch 16/20\n",
            "30/30 [==============================] - 1s 39ms/step - loss: 0.0046 - acc: 0.9999 - val_loss: 0.6985 - val_acc: 0.8629\n",
            "Epoch 17/20\n",
            "30/30 [==============================] - 1s 36ms/step - loss: 0.0055 - acc: 0.9996 - val_loss: 0.7196 - val_acc: 0.8659\n",
            "Epoch 18/20\n",
            "30/30 [==============================] - 1s 37ms/step - loss: 0.0026 - acc: 0.9999 - val_loss: 0.7598 - val_acc: 0.8639\n",
            "Epoch 19/20\n",
            "30/30 [==============================] - 1s 36ms/step - loss: 0.0045 - acc: 0.9989 - val_loss: 0.7991 - val_acc: 0.8618\n",
            "Epoch 20/20\n",
            "30/30 [==============================] - 1s 36ms/step - loss: 0.0015 - acc: 0.9999 - val_loss: 0.8242 - val_acc: 0.8619\n"
          ]
        }
      ]
    },
    {
      "cell_type": "markdown",
      "source": [
        "## Analyze Results"
      ],
      "metadata": {
        "id": "od3WhM-ExKef"
      }
    },
    {
      "cell_type": "code",
      "source": [
        "import matplotlib.pyplot as plt\n",
        "\n",
        "history_dict = history.history\n",
        "loss_values = history_dict['loss']\n",
        "val_loss_values = history_dict['val_loss']\n",
        "\n",
        "epoch = range(1, len(loss_values) +1)\n",
        "plt.plot(epoch, loss_values, 'o', label = 'training')\n",
        "plt.plot(epoch, val_loss_values, '--', label = 'training')\n",
        "plt.legend()\n",
        "plt.show()"
      ],
      "metadata": {
        "colab": {
          "base_uri": "https://localhost:8080/",
          "height": 265
        },
        "id": "Y45gKETg2zs1",
        "outputId": "3d881038-fb82-4029-f0d0-3684b0e2fee4"
      },
      "execution_count": 22,
      "outputs": [
        {
          "output_type": "display_data",
          "data": {
            "text/plain": [
              "<Figure size 432x288 with 1 Axes>"
            ],
            "image/png": "[encoded data removed]"
          },
          "metadata": {
            "needs_background": "light"
          }
        }
      ]
    },
    {
      "cell_type": "code",
      "source": [
        "model.evaluate(x_test, y_test)"
      ],
      "metadata": {
        "colab": {
          "base_uri": "https://localhost:8080/"
        },
        "id": "QkASak5h59pC",
        "outputId": "f284366a-caad-429a-fa5d-f9217efaab87"
      },
      "execution_count": 23,
      "outputs": [
        {
          "output_type": "stream",
          "name": "stdout",
          "text": [
            "782/782 [==============================] - 2s 2ms/step - loss: 0.3180 - acc: 0.8702\n"
          ]
        },
        {
          "output_type": "execute_result",
          "data": {
            "text/plain": [
              "[0.3179539740085602, 0.8701599836349487]"
            ]
          },
          "metadata": {},
          "execution_count": 23
        }
      ]
    },
    {
      "cell_type": "markdown",
      "source": [
        "## Less Complex Models"
      ],
      "metadata": {
        "id": "tQhCrCKM8kNy"
      }
    },
    {
      "cell_type": "code",
      "source": [
        "model2 = models.Sequential()\n",
        "model2.add(layers.Dense(4, activation='relu', input_shape = (10000,)))\n",
        "model2.add(layers.Dense(4, activation='relu'))\n",
        "model2.add(layers.Dense(1, activation='sigmoid'))\n",
        "\n",
        "model2.compile(optimizer='rmsprop',\n",
        "              loss='binary_crossentropy',\n",
        "              metrics=['acc'])\n",
        "\n",
        "history2 = model2.fit(partial_x_train,\n",
        "                    partial_y_train,\n",
        "                    epochs=20,\n",
        "                    batch_size=512,\n",
        "                    validation_data=(x_val, Y_val))\n"
      ],
      "metadata": {
        "colab": {
          "base_uri": "https://localhost:8080/"
        },
        "id": "h55ggJ4f6T9z",
        "outputId": "4e011c22-a7f2-4291-cdec-6aaa7cf92ba2"
      },
      "execution_count": 30,
      "outputs": [
        {
          "output_type": "stream",
          "name": "stdout",
          "text": [
            "Epoch 1/20\n",
            "30/30 [==============================] - 3s 69ms/step - loss: 0.6270 - acc: 0.7191 - val_loss: 0.5434 - val_acc: 0.8455\n",
            "Epoch 2/20\n",
            "30/30 [==============================] - 1s 35ms/step - loss: 0.4725 - acc: 0.8734 - val_loss: 0.4417 - val_acc: 0.8466\n",
            "Epoch 3/20\n",
            "30/30 [==============================] - 1s 32ms/step - loss: 0.3733 - acc: 0.8981 - val_loss: 0.3720 - val_acc: 0.8735\n",
            "Epoch 4/20\n",
            "30/30 [==============================] - 1s 31ms/step - loss: 0.3053 - acc: 0.9160 - val_loss: 0.3289 - val_acc: 0.8856\n",
            "Epoch 5/20\n",
            "30/30 [==============================] - 1s 32ms/step - loss: 0.2569 - acc: 0.9257 - val_loss: 0.3025 - val_acc: 0.8899\n",
            "Epoch 6/20\n",
            "30/30 [==============================] - 1s 31ms/step - loss: 0.2215 - acc: 0.9344 - val_loss: 0.2860 - val_acc: 0.8898\n",
            "Epoch 7/20\n",
            "30/30 [==============================] - 1s 32ms/step - loss: 0.1938 - acc: 0.9406 - val_loss: 0.2769 - val_acc: 0.8914\n",
            "Epoch 8/20\n",
            "30/30 [==============================] - 1s 31ms/step - loss: 0.1715 - acc: 0.9479 - val_loss: 0.2732 - val_acc: 0.8915\n",
            "Epoch 9/20\n",
            "30/30 [==============================] - 1s 31ms/step - loss: 0.1527 - acc: 0.9533 - val_loss: 0.2753 - val_acc: 0.8903\n",
            "Epoch 10/20\n",
            "30/30 [==============================] - 1s 31ms/step - loss: 0.1370 - acc: 0.9601 - val_loss: 0.2770 - val_acc: 0.8906\n",
            "Epoch 11/20\n",
            "30/30 [==============================] - 1s 31ms/step - loss: 0.1228 - acc: 0.9644 - val_loss: 0.2894 - val_acc: 0.8863\n",
            "Epoch 12/20\n",
            "30/30 [==============================] - 1s 32ms/step - loss: 0.1113 - acc: 0.9687 - val_loss: 0.2916 - val_acc: 0.8853\n",
            "Epoch 13/20\n",
            "30/30 [==============================] - 1s 34ms/step - loss: 0.1002 - acc: 0.9721 - val_loss: 0.2995 - val_acc: 0.8849\n",
            "Epoch 14/20\n",
            "30/30 [==============================] - 1s 32ms/step - loss: 0.0905 - acc: 0.9753 - val_loss: 0.3101 - val_acc: 0.8828\n",
            "Epoch 15/20\n",
            "30/30 [==============================] - 1s 32ms/step - loss: 0.0821 - acc: 0.9777 - val_loss: 0.3173 - val_acc: 0.8832\n",
            "Epoch 16/20\n",
            "30/30 [==============================] - 1s 32ms/step - loss: 0.0744 - acc: 0.9807 - val_loss: 0.3285 - val_acc: 0.8827\n",
            "Epoch 17/20\n",
            "30/30 [==============================] - 1s 32ms/step - loss: 0.0665 - acc: 0.9839 - val_loss: 0.3426 - val_acc: 0.8803\n",
            "Epoch 18/20\n",
            "30/30 [==============================] - 1s 35ms/step - loss: 0.0599 - acc: 0.9863 - val_loss: 0.3555 - val_acc: 0.8793\n",
            "Epoch 19/20\n",
            "30/30 [==============================] - 1s 32ms/step - loss: 0.0536 - acc: 0.9880 - val_loss: 0.3694 - val_acc: 0.8783\n",
            "Epoch 20/20\n",
            "30/30 [==============================] - 1s 32ms/step - loss: 0.0484 - acc: 0.9900 - val_loss: 0.3845 - val_acc: 0.8783\n"
          ]
        }
      ]
    },
    {
      "cell_type": "code",
      "source": [
        "history_dict = history.history\n",
        "loss_values = history_dict['loss']\n",
        "val_loss_values = history_dict['val_loss']\n",
        "val_loss_values_2 = history2.history['val_loss']\n",
        "\n",
        "epoch = range(1, len(loss_values) +1)\n",
        "plt.plot(epoch, val_loss_values_2, 'o', label = 'smaller')\n",
        "plt.plot(epoch, val_loss_values, '--', label = 'bigger')\n",
        "plt.legend()\n",
        "plt.show()"
      ],
      "metadata": {
        "colab": {
          "base_uri": "https://localhost:8080/",
          "height": 265
        },
        "id": "YymCokdr95Dg",
        "outputId": "9be6c8a4-4a95-4bec-e916-acb719bb3405"
      },
      "execution_count": 29,
      "outputs": [
        {
          "output_type": "display_data",
          "data": {
            "text/plain": [
              "<Figure size 432x288 with 1 Axes>"
            ],
            "image/png": "[encoded data removed]"
          },
          "metadata": {
            "needs_background": "light"
          }
        }
      ]
    },
    {
      "cell_type": "markdown",
      "source": [
        "## Regularization"
      ],
      "metadata": {
        "id": "iaI1V_F9ASCX"
      }
    },
    {
      "cell_type": "code",
      "source": [
        "from keras import regularizers"
      ],
      "metadata": {
        "id": "Xz2da6n6Aguz"
      },
      "execution_count": 31,
      "outputs": []
    },
    {
      "cell_type": "code",
      "source": [
        "model3 = models.Sequential()\n",
        "model3.add(layers.Dense(16, activation='relu', input_shape = (10000,), \n",
        "                        kernel_regularizer=regularizers.l2(0.001)))\n",
        "model3.add(layers.Dense(16, activation='relu', kernel_regularizer=regularizers.l2(0.001)))\n",
        "model3.add(layers.Dense(1, activation='sigmoid'))\n",
        "\n",
        "model3.compile(optimizer='rmsprop',\n",
        "              loss='binary_crossentropy',\n",
        "              metrics=['acc'])\n",
        "\n",
        "history3 = model3.fit(partial_x_train,\n",
        "                    partial_y_train,\n",
        "                    epochs=20,\n",
        "                    batch_size=512,\n",
        "                    validation_data=(x_val, Y_val))\n"
      ],
      "metadata": {
        "colab": {
          "base_uri": "https://localhost:8080/"
        },
        "id": "iA7HLC3tAVJK",
        "outputId": "b7bf177b-2772-4a0b-92a5-060b039e629d"
      },
      "execution_count": 32,
      "outputs": [
        {
          "output_type": "stream",
          "name": "stdout",
          "text": [
            "Epoch 1/20\n",
            "30/30 [==============================] - 25s 45ms/step - loss: 0.5380 - acc: 0.7909 - val_loss: 0.4335 - val_acc: 0.8434\n",
            "Epoch 2/20\n",
            "30/30 [==============================] - 1s 34ms/step - loss: 0.3396 - acc: 0.9029 - val_loss: 0.3470 - val_acc: 0.8846\n",
            "Epoch 3/20\n",
            "30/30 [==============================] - 1s 34ms/step - loss: 0.2733 - acc: 0.9233 - val_loss: 0.3765 - val_acc: 0.8636\n",
            "Epoch 4/20\n",
            "30/30 [==============================] - 1s 34ms/step - loss: 0.2398 - acc: 0.9359 - val_loss: 0.3553 - val_acc: 0.8762\n",
            "Epoch 5/20\n",
            "30/30 [==============================] - 1s 34ms/step - loss: 0.2188 - acc: 0.9443 - val_loss: 0.3444 - val_acc: 0.8825\n",
            "Epoch 6/20\n",
            "30/30 [==============================] - 1s 34ms/step - loss: 0.2050 - acc: 0.9495 - val_loss: 0.3979 - val_acc: 0.8668\n",
            "Epoch 7/20\n",
            "30/30 [==============================] - 1s 34ms/step - loss: 0.1911 - acc: 0.9550 - val_loss: 0.3461 - val_acc: 0.8836\n",
            "Epoch 8/20\n",
            "30/30 [==============================] - 1s 38ms/step - loss: 0.1794 - acc: 0.9610 - val_loss: 0.4079 - val_acc: 0.8636\n",
            "Epoch 9/20\n",
            "30/30 [==============================] - 1s 36ms/step - loss: 0.1744 - acc: 0.9609 - val_loss: 0.4525 - val_acc: 0.8558\n",
            "Epoch 10/20\n",
            "30/30 [==============================] - 2s 56ms/step - loss: 0.1671 - acc: 0.9637 - val_loss: 0.3752 - val_acc: 0.8765\n",
            "Epoch 11/20\n",
            "30/30 [==============================] - 1s 37ms/step - loss: 0.1643 - acc: 0.9653 - val_loss: 0.3889 - val_acc: 0.8782\n",
            "Epoch 12/20\n",
            "30/30 [==============================] - 1s 34ms/step - loss: 0.1548 - acc: 0.9695 - val_loss: 0.3973 - val_acc: 0.8775\n",
            "Epoch 13/20\n",
            "30/30 [==============================] - 1s 35ms/step - loss: 0.1544 - acc: 0.9673 - val_loss: 0.4286 - val_acc: 0.8668\n",
            "Epoch 14/20\n",
            "30/30 [==============================] - 1s 35ms/step - loss: 0.1498 - acc: 0.9707 - val_loss: 0.4172 - val_acc: 0.8720\n",
            "Epoch 15/20\n",
            "30/30 [==============================] - 1s 42ms/step - loss: 0.1452 - acc: 0.9730 - val_loss: 0.4291 - val_acc: 0.8748\n",
            "Epoch 16/20\n",
            "30/30 [==============================] - 2s 52ms/step - loss: 0.1384 - acc: 0.9761 - val_loss: 0.4292 - val_acc: 0.8709\n",
            "Epoch 17/20\n",
            "30/30 [==============================] - 1s 43ms/step - loss: 0.1447 - acc: 0.9725 - val_loss: 0.4368 - val_acc: 0.8734\n",
            "Epoch 18/20\n",
            "30/30 [==============================] - 1s 38ms/step - loss: 0.1317 - acc: 0.9791 - val_loss: 0.6478 - val_acc: 0.8274\n",
            "Epoch 19/20\n",
            "30/30 [==============================] - 1s 34ms/step - loss: 0.1362 - acc: 0.9755 - val_loss: 0.4753 - val_acc: 0.8658\n",
            "Epoch 20/20\n",
            "30/30 [==============================] - 1s 35ms/step - loss: 0.1297 - acc: 0.9782 - val_loss: 0.4884 - val_acc: 0.8619\n"
          ]
        }
      ]
    },
    {
      "cell_type": "code",
      "source": [
        "history_dict = history.history\n",
        "loss_values = history_dict['loss']\n",
        "val_loss_values = history_dict['val_loss']\n",
        "val_loss_values_3 = history3.history['val_loss']\n",
        "\n",
        "epoch = range(1, len(loss_values) +1)\n",
        "plt.plot(epoch, val_loss_values_3, 'o', label = 'regularizated')\n",
        "plt.plot(epoch, val_loss_values, '--', label = 'original')\n",
        "plt.legend()\n",
        "plt.show()"
      ],
      "metadata": {
        "colab": {
          "base_uri": "https://localhost:8080/",
          "height": 265
        },
        "id": "dNyyb-eBBRFE",
        "outputId": "3f9770c9-de52-4d68-94e4-c1161e242e42"
      },
      "execution_count": 35,
      "outputs": [
        {
          "output_type": "display_data",
          "data": {
            "text/plain": [
              "<Figure size 432x288 with 1 Axes>"
            ],
            "image/png": "[encoded data removed]"
          },
          "metadata": {
            "needs_background": "light"
          }
        }
      ]
    },
    {
      "cell_type": "markdown",
      "source": [
        "## Dropout Test"
      ],
      "metadata": {
        "id": "DX3Q4hYjB_HZ"
      }
    },
    {
      "cell_type": "code",
      "source": [
        "model4 = models.Sequential()\n",
        "model4.add(layers.Dense(16, activation='relu', input_shape = (10000,)))\n",
        "model4.add(layers.Dropout(0.5))\n",
        "model4.add(layers.Dense(16, activation='relu'))\n",
        "model4.add(layers.Dropout(0.5))\n",
        "model4.add(layers.Dense(1, activation='sigmoid'))\n",
        "\n",
        "model4.compile(optimizer='rmsprop',\n",
        "              loss='binary_crossentropy',\n",
        "              metrics=['acc'])\n",
        "\n",
        "history4 = model4.fit(partial_x_train,\n",
        "                    partial_y_train,\n",
        "                    epochs=20,\n",
        "                    batch_size=512,\n",
        "                    validation_data=(x_val, Y_val))"
      ],
      "metadata": {
        "colab": {
          "base_uri": "https://localhost:8080/"
        },
        "id": "_OUOgk2TCHgf",
        "outputId": "03cc2662-6074-4fd8-e968-468ec31ddd71"
      },
      "execution_count": 34,
      "outputs": [
        {
          "output_type": "stream",
          "name": "stdout",
          "text": [
            "Epoch 1/20\n",
            "30/30 [==============================] - 2s 53ms/step - loss: 0.6152 - acc: 0.6508 - val_loss: 0.4936 - val_acc: 0.8532\n",
            "Epoch 2/20\n",
            "30/30 [==============================] - 1s 35ms/step - loss: 0.4880 - acc: 0.7884 - val_loss: 0.3981 - val_acc: 0.8655\n",
            "Epoch 3/20\n",
            "30/30 [==============================] - 1s 35ms/step - loss: 0.4098 - acc: 0.8389 - val_loss: 0.3293 - val_acc: 0.8824\n",
            "Epoch 4/20\n",
            "30/30 [==============================] - 2s 52ms/step - loss: 0.3448 - acc: 0.8694 - val_loss: 0.2992 - val_acc: 0.8842\n",
            "Epoch 5/20\n",
            "30/30 [==============================] - 2s 52ms/step - loss: 0.3027 - acc: 0.8904 - val_loss: 0.2794 - val_acc: 0.8890\n",
            "Epoch 6/20\n",
            "30/30 [==============================] - 1s 35ms/step - loss: 0.2645 - acc: 0.9075 - val_loss: 0.2815 - val_acc: 0.8894\n",
            "Epoch 7/20\n",
            "30/30 [==============================] - 1s 35ms/step - loss: 0.2311 - acc: 0.9174 - val_loss: 0.2755 - val_acc: 0.8906\n",
            "Epoch 8/20\n",
            "30/30 [==============================] - 1s 35ms/step - loss: 0.2035 - acc: 0.9309 - val_loss: 0.2801 - val_acc: 0.8908\n",
            "Epoch 9/20\n",
            "30/30 [==============================] - 1s 39ms/step - loss: 0.1866 - acc: 0.9409 - val_loss: 0.2968 - val_acc: 0.8901\n",
            "Epoch 10/20\n",
            "30/30 [==============================] - 1s 36ms/step - loss: 0.1653 - acc: 0.9449 - val_loss: 0.3243 - val_acc: 0.8880\n",
            "Epoch 11/20\n",
            "30/30 [==============================] - 1s 35ms/step - loss: 0.1496 - acc: 0.9520 - val_loss: 0.3338 - val_acc: 0.8881\n",
            "Epoch 12/20\n",
            "30/30 [==============================] - 1s 35ms/step - loss: 0.1383 - acc: 0.9547 - val_loss: 0.3501 - val_acc: 0.8880\n",
            "Epoch 13/20\n",
            "30/30 [==============================] - 1s 35ms/step - loss: 0.1229 - acc: 0.9583 - val_loss: 0.3909 - val_acc: 0.8871\n",
            "Epoch 14/20\n",
            "30/30 [==============================] - 1s 35ms/step - loss: 0.1065 - acc: 0.9641 - val_loss: 0.4014 - val_acc: 0.8869\n",
            "Epoch 15/20\n",
            "30/30 [==============================] - 1s 35ms/step - loss: 0.1017 - acc: 0.9654 - val_loss: 0.4446 - val_acc: 0.8834\n",
            "Epoch 16/20\n",
            "30/30 [==============================] - 1s 35ms/step - loss: 0.0929 - acc: 0.9699 - val_loss: 0.4675 - val_acc: 0.8876\n",
            "Epoch 17/20\n",
            "30/30 [==============================] - 1s 35ms/step - loss: 0.0908 - acc: 0.9690 - val_loss: 0.4748 - val_acc: 0.8866\n",
            "Epoch 18/20\n",
            "30/30 [==============================] - 1s 34ms/step - loss: 0.0806 - acc: 0.9718 - val_loss: 0.5290 - val_acc: 0.8825\n",
            "Epoch 19/20\n",
            "30/30 [==============================] - 1s 35ms/step - loss: 0.0773 - acc: 0.9731 - val_loss: 0.5358 - val_acc: 0.8851\n",
            "Epoch 20/20\n",
            "30/30 [==============================] - 1s 35ms/step - loss: 0.0731 - acc: 0.9747 - val_loss: 0.5516 - val_acc: 0.8826\n"
          ]
        }
      ]
    },
    {
      "cell_type": "code",
      "source": [
        "history_dict = history.history\n",
        "loss_values = history_dict['loss']\n",
        "val_loss_values = history_dict['val_loss']\n",
        "val_loss_values_4 = history4.history['val_loss']\n",
        "\n",
        "epoch = range(1, len(loss_values) +1)\n",
        "plt.plot(epoch, val_loss_values_4, 'o', label = 'regularizated')\n",
        "plt.plot(epoch, val_loss_values, '--', label = 'original')\n",
        "plt.legend()\n",
        "plt.show()"
      ],
      "metadata": {
        "colab": {
          "base_uri": "https://localhost:8080/",
          "height": 265
        },
        "id": "m9tD-J1QEoFa",
        "outputId": "f9d9d679-a31d-41b8-80be-fbbe21d2b717"
      },
      "execution_count": 36,
      "outputs": [
        {
          "output_type": "display_data",
          "data": {
            "text/plain": [
              "<Figure size 432x288 with 1 Axes>"
            ],
            "image/png": "[encoded data removed]"
          },
          "metadata": {
            "needs_background": "light"
          }
        }
      ]
    }
  ]
}