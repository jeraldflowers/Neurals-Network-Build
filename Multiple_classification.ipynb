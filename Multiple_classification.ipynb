{
  "nbformat": 4,
  "nbformat_minor": 0,
  "metadata": {
    "colab": {
      "provenance": [],
      "authorship_tag": "ABX9TyNvTdxKVjPm66tu7+TdLS3X",
      "include_colab_link": true
    },
    "kernelspec": {
      "name": "python3",
      "display_name": "Python 3"
    },
    "language_info": {
      "name": "python"
    },
    "accelerator": "GPU"
  },
  "cells": [
    {
      "cell_type": "markdown",
      "metadata": {
        "id": "view-in-github",
        "colab_type": "text"
      },
      "source": [
        "<a href=\"https://colab.research.google.com/github/jeraldflowers/Neurals-Network-Build/blob/main/Multiple_classification.ipynb\" target=\"_parent\"><img src=\"https://colab.research.google.com/assets/colab-badge.svg\" alt=\"Open In Colab\"/></a>"
      ]
    },
    {
      "cell_type": "code",
      "execution_count": null,
      "metadata": {
        "id": "-FCvIGgnGkQS"
      },
      "outputs": [],
      "source": [
        "import numpy as np\n",
        "from keras import layers, models\n",
        "from keras.datasets import reuters"
      ]
    },
    {
      "cell_type": "markdown",
      "source": [
        "## Data Downloads"
      ],
      "metadata": {
        "id": "AQKAk0P8y8lB"
      }
    },
    {
      "cell_type": "code",
      "source": [
        "(train_data, train_labels), (test_data, test_labels) = reuters.load_data(num_words=10000)"
      ],
      "metadata": {
        "id": "T2Q06rcrHA5M"
      },
      "execution_count": null,
      "outputs": []
    },
    {
      "cell_type": "markdown",
      "source": [
        "## Word Dictionary"
      ],
      "metadata": {
        "id": "GuLNxWHPzAiz"
      }
    },
    {
      "cell_type": "code",
      "source": [
        "word_index = reuters.get_word_index()\n",
        "word_index = dict([(value, key) for (key, value) in word_index.items()])\n",
        "for _ in train_data[0]:\n",
        "    print(word_index.get(_ -3))"
      ],
      "metadata": {
        "id": "EU9PGtoWHTt-"
      },
      "execution_count": null,
      "outputs": []
    },
    {
      "cell_type": "code",
      "source": [
        "train_labels[0]"
      ],
      "metadata": {
        "colab": {
          "base_uri": "https://localhost:8080/"
        },
        "id": "_3mod6fIKqqo",
        "outputId": "8517cea5-8b64-4406-8015-34a16ca13137"
      },
      "execution_count": null,
      "outputs": [
        {
          "output_type": "execute_result",
          "data": {
            "text/plain": [
              "3"
            ]
          },
          "metadata": {},
          "execution_count": 27
        }
      ]
    },
    {
      "cell_type": "code",
      "source": [
        "train_data.shape"
      ],
      "metadata": {
        "colab": {
          "base_uri": "https://localhost:8080/"
        },
        "id": "nYrS4TCwNJ_S",
        "outputId": "340f76e5-3a6c-4134-fca4-2898939298a3"
      },
      "execution_count": null,
      "outputs": [
        {
          "output_type": "execute_result",
          "data": {
            "text/plain": [
              "(8982,)"
            ]
          },
          "metadata": {},
          "execution_count": 28
        }
      ]
    },
    {
      "cell_type": "markdown",
      "source": [
        "## Vectorizer Function"
      ],
      "metadata": {
        "id": "ErBF-Xa3zPLN"
      }
    },
    {
      "cell_type": "code",
      "source": [
        "def vectorizar(sequences, dim=10000):\n",
        "    results = np.zeros((len(sequences), dim))\n",
        "    for i, sequences in enumerate(sequences):\n",
        "        results[i, sequences]=1\n",
        "    return results"
      ],
      "metadata": {
        "id": "IR2iGS3HNUhe"
      },
      "execution_count": null,
      "outputs": []
    },
    {
      "cell_type": "markdown",
      "source": [
        "## Transform Data"
      ],
      "metadata": {
        "id": "uX7NyuYbzXIi"
      }
    },
    {
      "cell_type": "code",
      "source": [
        "x_train = vectorizar(train_data)\n",
        "x_test = vectorizar(test_data)"
      ],
      "metadata": {
        "id": "X7FDyweENh8r"
      },
      "execution_count": null,
      "outputs": []
    },
    {
      "cell_type": "code",
      "source": [
        "train_labels[1]"
      ],
      "metadata": {
        "colab": {
          "base_uri": "https://localhost:8080/"
        },
        "id": "RPUT7P6lNpEL",
        "outputId": "cdc1cac0-50b7-4841-b26a-3cc6fda395ed"
      },
      "execution_count": null,
      "outputs": [
        {
          "output_type": "execute_result",
          "data": {
            "text/plain": [
              "4"
            ]
          },
          "metadata": {},
          "execution_count": 31
        }
      ]
    },
    {
      "cell_type": "code",
      "source": [
        "from keras.utils import to_categorical"
      ],
      "metadata": {
        "id": "LPEMpU-tNseW"
      },
      "execution_count": null,
      "outputs": []
    },
    {
      "cell_type": "code",
      "source": [
        "y_train = to_categorical(train_labels)\n",
        "y_test = to_categorical(test_labels)"
      ],
      "metadata": {
        "id": "fDHjjy9INyPs"
      },
      "execution_count": null,
      "outputs": []
    },
    {
      "cell_type": "code",
      "source": [
        "y_train[0]"
      ],
      "metadata": {
        "colab": {
          "base_uri": "https://localhost:8080/"
        },
        "id": "gARkowR8N5YG",
        "outputId": "9a23273f-7d2a-473b-a858-00b2a507e62d"
      },
      "execution_count": null,
      "outputs": [
        {
          "output_type": "execute_result",
          "data": {
            "text/plain": [
              "array([0., 0., 0., 1., 0., 0., 0., 0., 0., 0., 0., 0., 0., 0., 0., 0., 0.,\n",
              "       0., 0., 0., 0., 0., 0., 0., 0., 0., 0., 0., 0., 0., 0., 0., 0., 0.,\n",
              "       0., 0., 0., 0., 0., 0., 0., 0., 0., 0., 0., 0.], dtype=float32)"
            ]
          },
          "metadata": {},
          "execution_count": 34
        }
      ]
    },
    {
      "cell_type": "markdown",
      "source": [
        "## Model"
      ],
      "metadata": {
        "id": "tdFQi_q8zeNR"
      }
    },
    {
      "cell_type": "code",
      "source": [
        "model = models.Sequential()\n",
        "model.add(layers.Dense(64, activation='relu', input_shape=(10000,)))\n",
        "model.add(layers.Dense(64, activation='relu'))\n",
        "model.add(layers.Dense(46, activation='softmax'))"
      ],
      "metadata": {
        "id": "C-QebWaqN7T8"
      },
      "execution_count": null,
      "outputs": []
    },
    {
      "cell_type": "code",
      "source": [
        "model.compile(optimizer='rmsprop',\n",
        "              loss='categorical_crossentropy',\n",
        "              metrics=['acc'])"
      ],
      "metadata": {
        "id": "drge1igJOfPv"
      },
      "execution_count": null,
      "outputs": []
    },
    {
      "cell_type": "code",
      "source": [
        "x_val = x_train[:1000]\n",
        "partial_x_train = x_train[1000:]\n",
        "\n",
        "y_val = y_train[:1000]\n",
        "partial_y_train = y_train[1000:]"
      ],
      "metadata": {
        "id": "WF7HFu9LO_82"
      },
      "execution_count": null,
      "outputs": []
    },
    {
      "cell_type": "markdown",
      "source": [
        "## Training"
      ],
      "metadata": {
        "id": "MoxyzwJ6zjT_"
      }
    },
    {
      "cell_type": "code",
      "source": [
        "history = model.fit(partial_x_train, partial_y_train,\n",
        "          epochs=30,\n",
        "          batch_size=512,\n",
        "          validation_data=(x_val, y_val))"
      ],
      "metadata": {
        "colab": {
          "base_uri": "https://localhost:8080/"
        },
        "id": "prQDidwMETbN",
        "outputId": "f0990572-9b6b-4841-df1d-daed1f04c465"
      },
      "execution_count": null,
      "outputs": [
        {
          "output_type": "stream",
          "name": "stdout",
          "text": [
            "Epoch 1/30\n",
            "16/16 [==============================] - 1s 29ms/step - loss: 2.5904 - acc: 0.5178 - val_loss: 1.7224 - val_acc: 0.6340\n",
            "Epoch 2/30\n",
            "16/16 [==============================] - 0s 16ms/step - loss: 1.3845 - acc: 0.7097 - val_loss: 1.2878 - val_acc: 0.7170\n",
            "Epoch 3/30\n",
            "16/16 [==============================] - 0s 16ms/step - loss: 1.0204 - acc: 0.7849 - val_loss: 1.1181 - val_acc: 0.7760\n",
            "Epoch 4/30\n",
            "16/16 [==============================] - 0s 17ms/step - loss: 0.8008 - acc: 0.8311 - val_loss: 1.0297 - val_acc: 0.7930\n",
            "Epoch 5/30\n",
            "16/16 [==============================] - 0s 17ms/step - loss: 0.6382 - acc: 0.8668 - val_loss: 0.9734 - val_acc: 0.8150\n",
            "Epoch 6/30\n",
            "16/16 [==============================] - 0s 16ms/step - loss: 0.5107 - acc: 0.8970 - val_loss: 0.9062 - val_acc: 0.8160\n",
            "Epoch 7/30\n",
            "16/16 [==============================] - 0s 17ms/step - loss: 0.4088 - acc: 0.9181 - val_loss: 0.8829 - val_acc: 0.8220\n",
            "Epoch 8/30\n",
            "16/16 [==============================] - 0s 16ms/step - loss: 0.3318 - acc: 0.9323 - val_loss: 0.8865 - val_acc: 0.8280\n",
            "Epoch 9/30\n",
            "16/16 [==============================] - 0s 16ms/step - loss: 0.2759 - acc: 0.9405 - val_loss: 0.8833 - val_acc: 0.8210\n",
            "Epoch 10/30\n",
            "16/16 [==============================] - 0s 16ms/step - loss: 0.2291 - acc: 0.9470 - val_loss: 0.9756 - val_acc: 0.7920\n",
            "Epoch 11/30\n",
            "16/16 [==============================] - 0s 16ms/step - loss: 0.2045 - acc: 0.9510 - val_loss: 0.8986 - val_acc: 0.8240\n",
            "Epoch 12/30\n",
            "16/16 [==============================] - 0s 16ms/step - loss: 0.1753 - acc: 0.9535 - val_loss: 0.9658 - val_acc: 0.8130\n",
            "Epoch 13/30\n",
            "16/16 [==============================] - 0s 16ms/step - loss: 0.1652 - acc: 0.9545 - val_loss: 0.9547 - val_acc: 0.8140\n",
            "Epoch 14/30\n",
            "16/16 [==============================] - 0s 16ms/step - loss: 0.1487 - acc: 0.9541 - val_loss: 0.9585 - val_acc: 0.8160\n",
            "Epoch 15/30\n",
            "16/16 [==============================] - 0s 17ms/step - loss: 0.1372 - acc: 0.9560 - val_loss: 0.9723 - val_acc: 0.8150\n",
            "Epoch 16/30\n",
            "16/16 [==============================] - 0s 16ms/step - loss: 0.1285 - acc: 0.9567 - val_loss: 1.0158 - val_acc: 0.8000\n",
            "Epoch 17/30\n",
            "16/16 [==============================] - 0s 16ms/step - loss: 0.1264 - acc: 0.9580 - val_loss: 1.0480 - val_acc: 0.8000\n",
            "Epoch 18/30\n",
            "16/16 [==============================] - 0s 15ms/step - loss: 0.1183 - acc: 0.9564 - val_loss: 1.0241 - val_acc: 0.8070\n",
            "Epoch 19/30\n",
            "16/16 [==============================] - 0s 16ms/step - loss: 0.1158 - acc: 0.9579 - val_loss: 1.0266 - val_acc: 0.8150\n",
            "Epoch 20/30\n",
            "16/16 [==============================] - 0s 16ms/step - loss: 0.1077 - acc: 0.9575 - val_loss: 1.0418 - val_acc: 0.8150\n",
            "Epoch 21/30\n",
            "16/16 [==============================] - 0s 16ms/step - loss: 0.1067 - acc: 0.9590 - val_loss: 1.0873 - val_acc: 0.8040\n",
            "Epoch 22/30\n",
            "16/16 [==============================] - 0s 17ms/step - loss: 0.1055 - acc: 0.9594 - val_loss: 1.1014 - val_acc: 0.7970\n",
            "Epoch 23/30\n",
            "16/16 [==============================] - 0s 16ms/step - loss: 0.1030 - acc: 0.9587 - val_loss: 1.1640 - val_acc: 0.7980\n",
            "Epoch 24/30\n",
            "16/16 [==============================] - 0s 16ms/step - loss: 0.1019 - acc: 0.9588 - val_loss: 1.0901 - val_acc: 0.8110\n",
            "Epoch 25/30\n",
            "16/16 [==============================] - 0s 16ms/step - loss: 0.1035 - acc: 0.9578 - val_loss: 1.1101 - val_acc: 0.8020\n",
            "Epoch 26/30\n",
            "16/16 [==============================] - 0s 17ms/step - loss: 0.0967 - acc: 0.9587 - val_loss: 1.1346 - val_acc: 0.8030\n",
            "Epoch 27/30\n",
            "16/16 [==============================] - 0s 17ms/step - loss: 0.0986 - acc: 0.9598 - val_loss: 1.2098 - val_acc: 0.7910\n",
            "Epoch 28/30\n",
            "16/16 [==============================] - 0s 16ms/step - loss: 0.0969 - acc: 0.9597 - val_loss: 1.1675 - val_acc: 0.7950\n",
            "Epoch 29/30\n",
            "16/16 [==============================] - 0s 16ms/step - loss: 0.0949 - acc: 0.9585 - val_loss: 1.2019 - val_acc: 0.7890\n",
            "Epoch 30/30\n",
            "16/16 [==============================] - 0s 16ms/step - loss: 0.0973 - acc: 0.9579 - val_loss: 1.1787 - val_acc: 0.8010\n"
          ]
        }
      ]
    },
    {
      "cell_type": "markdown",
      "source": [
        "## Validate Results"
      ],
      "metadata": {
        "id": "d8cHS15VzrXV"
      }
    },
    {
      "cell_type": "code",
      "source": [
        "import matplotlib.pyplot as plt\n",
        "\n",
        "history_dict = history.history\n",
        "loss_values = history_dict['loss']\n",
        "val_loss_values = history_dict['val_loss']\n",
        "\n",
        "fig = plt.figure(figsize=(10,10))\n",
        "epoch = range(1, len(loss_values) +1)\n",
        "plt.plot(epoch, loss_values, 'o', label = 'training')\n",
        "plt.plot(epoch, val_loss_values, '--', label = 'validation')\n",
        "plt.legend()\n",
        "plt.show()"
      ],
      "metadata": {
        "colab": {
          "base_uri": "https://localhost:8080/",
          "height": 592
        },
        "id": "cJU6EiHsEhqj",
        "outputId": "8ed84237-4524-4a5b-894d-cf994d9f4970"
      },
      "execution_count": null,
      "outputs": [
        {
          "output_type": "display_data",
          "data": {
            "text/plain": [
              "<Figure size 720x720 with 1 Axes>"
            ],
            "image/png": "[encoded data removed]"
          },
          "metadata": {
            "needs_background": "light"
          }
        }
      ]
    },
    {
      "cell_type": "code",
      "source": [
        "import matplotlib.pyplot as plt\n",
        "\n",
        "history_dict = history.history\n",
        "loss_values = history_dict['acc']\n",
        "val_loss_values = history_dict['val_acc']\n",
        "\n",
        "fig = plt.figure(figsize=(10,10))\n",
        "epoch = range(1, len(loss_values) +1)\n",
        "plt.plot(epoch, loss_values, 'o', label = 'training')\n",
        "plt.plot(epoch, val_loss_values, '--', label = 'validation')\n",
        "plt.legend()\n",
        "plt.show()"
      ],
      "metadata": {
        "colab": {
          "base_uri": "https://localhost:8080/",
          "height": 592
        },
        "id": "HyfiF8trInc6",
        "outputId": "1ff043e1-8d1b-48f8-d318-b765c4594b05"
      },
      "execution_count": null,
      "outputs": [
        {
          "output_type": "display_data",
          "data": {
            "text/plain": [
              "<Figure size 720x720 with 1 Axes>"
            ],
            "image/png": "[encoded data removed]"
          },
          "metadata": {
            "needs_background": "light"
          }
        }
      ]
    },
    {
      "cell_type": "code",
      "source": [
        "model.evaluate(x_test, y_test)"
      ],
      "metadata": {
        "colab": {
          "base_uri": "https://localhost:8080/"
        },
        "id": "toI_fVTZI6aR",
        "outputId": "905832b3-9433-4caa-95f2-8e0822395dd2"
      },
      "execution_count": null,
      "outputs": [
        {
          "output_type": "stream",
          "name": "stdout",
          "text": [
            "71/71 [==============================] - 0s 3ms/step - loss: 1.3910 - acc: 0.7827\n"
          ]
        },
        {
          "output_type": "execute_result",
          "data": {
            "text/plain": [
              "[1.390975832939148, 0.7827248573303223]"
            ]
          },
          "metadata": {},
          "execution_count": 43
        }
      ]
    },
    {
      "cell_type": "markdown",
      "source": [
        "## Predictions"
      ],
      "metadata": {
        "id": "5YRcLTSSzyzx"
      }
    },
    {
      "cell_type": "code",
      "source": [
        "predictions = model.predict(x_test)"
      ],
      "metadata": {
        "colab": {
          "base_uri": "https://localhost:8080/"
        },
        "id": "9fqMADwbJmEp",
        "outputId": "bcb54ccd-ef61-46ef-be70-ffbc0d21141c"
      },
      "execution_count": null,
      "outputs": [
        {
          "output_type": "stream",
          "name": "stdout",
          "text": [
            "71/71 [==============================] - 0s 2ms/step\n"
          ]
        }
      ]
    },
    {
      "cell_type": "code",
      "source": [
        "predictions[0]"
      ],
      "metadata": {
        "colab": {
          "base_uri": "https://localhost:8080/"
        },
        "id": "W6-bzsb9JrmE",
        "outputId": "07462bd7-2bbf-490c-a4c3-5129aacf9168"
      },
      "execution_count": null,
      "outputs": [
        {
          "output_type": "execute_result",
          "data": {
            "text/plain": [
              "array([2.27886588e-07, 2.08539930e-07, 3.72498675e-07, 9.87140656e-01,\n",
              "       1.17754266e-02, 5.77045398e-08, 7.24967308e-10, 1.73748148e-07,\n",
              "       4.81352763e-05, 6.88558615e-08, 2.00546242e-06, 5.29501413e-04,\n",
              "       6.11913777e-07, 5.57225849e-06, 2.11136836e-07, 1.07764159e-10,\n",
              "       1.08920976e-04, 5.14479780e-07, 4.17439395e-07, 2.71953264e-04,\n",
              "       8.48903073e-05, 4.98276540e-06, 6.54222347e-08, 4.91126730e-06,\n",
              "       9.48357215e-09, 1.17424656e-06, 1.52832684e-12, 7.63494423e-09,\n",
              "       2.29513510e-08, 1.32058346e-06, 2.57153403e-07, 2.19687560e-10,\n",
              "       2.32994807e-07, 9.09519997e-08, 1.01525711e-06, 9.35289179e-08,\n",
              "       1.55075159e-05, 2.57250775e-07, 3.29889218e-08, 9.24039778e-09,\n",
              "       1.81505442e-08, 1.64178040e-08, 1.28552968e-09, 5.15301968e-10,\n",
              "       1.18566537e-11, 6.16171647e-09], dtype=float32)"
            ]
          },
          "metadata": {},
          "execution_count": 46
        }
      ]
    },
    {
      "cell_type": "code",
      "source": [
        "np.sum(predictions[0])"
      ],
      "metadata": {
        "colab": {
          "base_uri": "https://localhost:8080/"
        },
        "id": "bh4WKpF-Jyfa",
        "outputId": "fce35bba-f063-450f-9dce-bf33ecfb56ec"
      },
      "execution_count": null,
      "outputs": [
        {
          "output_type": "execute_result",
          "data": {
            "text/plain": [
              "0.99999994"
            ]
          },
          "metadata": {},
          "execution_count": 47
        }
      ]
    },
    {
      "cell_type": "code",
      "source": [
        "np.argmax(predictions[0])"
      ],
      "metadata": {
        "colab": {
          "base_uri": "https://localhost:8080/"
        },
        "id": "25-vNnA4KMCt",
        "outputId": "accf6b3a-1418-475e-b9d4-138465084c59"
      },
      "execution_count": null,
      "outputs": [
        {
          "output_type": "execute_result",
          "data": {
            "text/plain": [
              "3"
            ]
          },
          "metadata": {},
          "execution_count": 48
        }
      ]
    }
  ]
}